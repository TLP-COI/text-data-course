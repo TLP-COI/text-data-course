{
 "cells": [
  {
   "cell_type": "markdown",
   "id": "1ac050fb",
   "metadata": {},
   "source": [
    "# Written Rules\n",
    "\n",
    "> Do exactly as I say"
   ]
  },
  {
   "cell_type": "markdown",
   "id": "ce06b62b",
   "metadata": {},
   "source": [
    "## Grammars\n",
    "\n",
    "> Tokenizing, but _more_"
   ]
  },
  {
   "cell_type": "markdown",
   "id": "0ee41e89",
   "metadata": {},
   "source": [
    "## Knowledge \"Graphs\"\n",
    "\n",
    "> rule-writing will continue until morale improves"
   ]
  },
  {
   "cell_type": "code",
   "execution_count": null,
   "id": "f82d2d1d",
   "metadata": {},
   "outputs": [],
   "source": []
  }
 ],
 "metadata": {
  "jupytext": {
   "text_representation": {
    "extension": ".md",
    "format_name": "myst",
    "format_version": 0.13,
    "jupytext_version": "1.11.5"
   }
  },
  "kernelspec": {
   "display_name": "Python 3 (ipykernel)",
   "language": "python",
   "name": "python3"
  },
  "language_info": {
   "codemirror_mode": {
    "name": "ipython",
    "version": 3
   },
   "file_extension": ".py",
   "mimetype": "text/x-python",
   "name": "python",
   "nbconvert_exporter": "python",
   "pygments_lexer": "ipython3",
   "version": "3.9.9"
  },
  "source_map": [
   12,
   18,
   24,
   30
  ]
 },
 "nbformat": 4,
 "nbformat_minor": 5
}