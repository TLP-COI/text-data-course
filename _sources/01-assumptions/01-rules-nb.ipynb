{
 "cells": [
  {
   "cell_type": "markdown",
   "id": "0dc86260",
   "metadata": {
    "slideshow": {
     "slide_type": "slide"
    }
   },
   "source": [
    "# Writing the Rules\n",
    "\n",
    "---\n",
    "\n",
    "_The pen is mightier than the sword..._"
   ]
  },
  {
   "cell_type": "markdown",
   "id": "e4c68e78",
   "metadata": {
    "slideshow": {
     "slide_type": "slide"
    }
   },
   "source": [
    "## Tokenization\n",
    "\n",
    "--- \n",
    "\n",
    "_I can't buy anything with this!_"
   ]
  },
  {
   "cell_type": "code",
   "execution_count": null,
   "id": "37af698b",
   "metadata": {},
   "outputs": [],
   "source": []
  }
 ],
 "metadata": {
  "jupytext": {
   "text_representation": {
    "extension": ".md",
    "format_name": "myst",
    "format_version": 0.13,
    "jupytext_version": "1.11.5"
   }
  },
  "kernelspec": {
   "display_name": "Python 3 (ipykernel)",
   "language": "python",
   "name": "python3"
  },
  "language_info": {
   "codemirror_mode": {
    "name": "ipython",
    "version": 3
   },
   "file_extension": ".py",
   "mimetype": "text/x-python",
   "name": "python",
   "nbconvert_exporter": "python",
   "pygments_lexer": "ipython3",
   "version": "3.9.9"
  },
  "source_map": [
   14,
   22,
   30
  ]
 },
 "nbformat": 4,
 "nbformat_minor": 5
}