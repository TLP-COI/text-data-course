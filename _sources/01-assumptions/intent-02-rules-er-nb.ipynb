{
 "cells": [
  {
   "cell_type": "markdown",
   "id": "80897c14",
   "metadata": {
    "slideshow": {
     "slide_type": "slide"
    }
   },
   "source": [
    "# Rules for Entities, Rules for Relations"
   ]
  },
  {
   "cell_type": "markdown",
   "id": "60550a92",
   "metadata": {
    "slideshow": {
     "slide_type": "subslide"
    }
   },
   "source": [
    "We've used words like _content_ and _keywords_ to refer to \"stuff we're interested in\", so let's come up with a more unified term. \n",
    "\n",
    "Entity\n",
    ":  Something that exists independently, and is uniquely identifiable. _A thing we're interested in that exists._\n",
    "\n",
    "In the case of our tokens, many of the tokens-of-interest were words instantiating some _entity_. \n",
    "Like tokens, entities can have _types_: e.g. `London` and `New York` are both entities about a location, so `location` is an entity type."
   ]
  },
  {
   "cell_type": "markdown",
   "id": "b31937d2",
   "metadata": {
    "slideshow": {
     "slide_type": "subslide"
    }
   },
   "source": [
    "In addition, we often know something useful about _how entities relate to one another_. \n",
    "\n",
    "Relation\n",
    ":  captures how entities are related to one another\n",
    "    \n",
    "This should be familiar from e.g. data modeling. If not, one way to think of this is \n",
    "- entities ≈ nouns\n",
    "- relations ≈ verbs"
   ]
  },
  {
   "cell_type": "markdown",
   "id": "32b5d27f",
   "metadata": {
    "slideshow": {
     "slide_type": "subslide"
    }
   },
   "source": [
    "In this section, we'll take a look at how people systematically write down and apply **rules** for finding entities and relations."
   ]
  },
  {
   "cell_type": "markdown",
   "id": "6223a5dd",
   "metadata": {
    "slideshow": {
     "slide_type": "slide"
    }
   },
   "source": [
    "## Entity Legos: Regular Expressions (RegEx)"
   ]
  },
  {
   "cell_type": "markdown",
   "id": "07755af1",
   "metadata": {
    "slideshow": {
     "slide_type": "subslide"
    }
   },
   "source": [
    "![](https://imgs.xkcd.com/comics/regular_expressions.png)"
   ]
  },
  {
   "cell_type": "markdown",
   "id": "97fa025e",
   "metadata": {
    "slideshow": {
     "slide_type": "subslide"
    }
   },
   "source": [
    "Recall the example above: \n",
    "> we _missed_ keyword occurrences in the text when the **case** was not taken into acount\n",
    "\n",
    "Hard-coding \"lowercase\", while a viable option, case is only the tip of the text-variation iceberg. The answer to \n",
    ">\"How to I find strings that fit some _pattern_ I'm looking for?\" \n",
    "\n",
    "is almost always \n",
    "> **Regular Expressions**"
   ]
  },
  {
   "cell_type": "markdown",
   "id": "9ebf39c4",
   "metadata": {
    "slideshow": {
     "slide_type": "subslide"
    }
   },
   "source": [
    "### What is RegEx\n",
    "\n",
    "ReGex is a mini-language for writing patterns that you want to find in a bunch of text. The most basic use is to match exact strings: \n",
    "\n",
    "|pattern|meaning| example|\n",
    "|---|---|---|\n",
    "|`a`| _match character_ `a`| **a**pple|\n",
    "|`the`| _match string `the`| **the**re went **the** last one!| \n",
    "\n",
    "This is the same as what we did above, for keywords: `my_pattern in my_text`. By default, RegEx patterns are case-sensitive! (`A` will not match an `a`)"
   ]
  },
  {
   "cell_type": "markdown",
   "id": "f7b92259",
   "metadata": {
    "slideshow": {
     "slide_type": "subslide"
    }
   },
   "source": [
    "Regex also has several _special characters_ ,e.g. ...\n",
    "\n",
    "characters inside square brackets `[ ]` or patterns separated with `|`  are _options_. \n",
    "\n",
    "  |pattern|meaning| example|\n",
    "  |---|---|---|\n",
    "  |`[Tt]h` |\"the\" with upper or lower `t`| **The** end of **the** road| \n",
    "  |`[tT]he\\|end`| either `[Tt]he` or `end` | **The end** of **the** road|"
   ]
  },
  {
   "cell_type": "markdown",
   "id": "c4ab7a95",
   "metadata": {
    "slideshow": {
     "slide_type": "subslide"
    }
   },
   "source": [
    "**Character classes**\n",
    "\n",
    "| meaning              | syntax   |\n",
    "|----------------------|----------|\n",
    "| character set        | `[ABC]`  |\n",
    "| negated set          | `[^ABC]` |\n",
    "| range                | `[A-Z]`  |\n",
    "| dot (non-break)      | `.`      |\n",
    "| unicode              | `\\X`     |\n",
    "| word (alpha, num, _) | `\\w`     |\n",
    "| not word             | `\\W`     |\n",
    "| digit, not digit     | `\\d, \\D` |\n",
    "| whitespace, not      | `\\s, \\S` |\n",
    "| hspace, not          | `\\h, \\H` |\n",
    "| vspace, not          | `\\v, \\V` |\n",
    "| line break, not      | `\\R, \\N` |"
   ]
  },
  {
   "cell_type": "markdown",
   "id": "1368fd94",
   "metadata": {
    "slideshow": {
     "slide_type": "subslide"
    }
   },
   "source": [
    "**Anchors** \n",
    "\n",
    "These match _positions_, not characters!\n",
    "\n",
    "| meaning               | syntax   |\n",
    "|-----------------------|----------|\n",
    "| beginning             | `^`      |\n",
    "| end                   | `$`      |\n",
    "| string begin          | `\\A`     |\n",
    "| string end            | `\\Z`     |\n",
    "| string end (no \\n)    | `\\z`     |\n",
    "| word boundary, not    | `\\b, \\B` |\n",
    "| end of last match     | `\\G`     |"
   ]
  },
  {
   "cell_type": "markdown",
   "id": "159dd1d7",
   "metadata": {
    "slideshow": {
     "slide_type": "subslide"
    }
   },
   "source": [
    "**Escaped Characters**\n",
    "\n",
    "Special meanings, so chararcter needs escaping\n",
    "\n",
    "| meaning           | syntax             |\n",
    "|-------------------|--------------------|\n",
    "| reserved          | `+*?^$\\.[]{}()\\|/` |\n",
    "| escape reserved   | `\\`+reserved       |\n",
    "| escape multiple   | `\\Q` ... `\\E`      |\n",
    "| tab               | `\\t`               |\n",
    "| line feed, return | `\\n`               |\n",
    "| carriage return   | `\\r`               |"
   ]
  },
  {
   "cell_type": "markdown",
   "id": "c3798cc1",
   "metadata": {
    "slideshow": {
     "slide_type": "subslide"
    }
   },
   "source": [
    "**Capture Groups**\n",
    "\n",
    "\"hold on\" to patterns for later, or group tokens into a single, bigger pattern. \n",
    "\n",
    "| meaning           | syntax                       |\n",
    "|-------------------|------------------------------|\n",
    "| capture group     | `(`ABC`)`                    |\n",
    "| reference group   | `\\1`(`$1`), `\\2`(`$2`), etc. |\n",
    "| named group       | `(?'`name`'` ABC`)`          |\n",
    "| reference name    | `\\k'`name`'`                 |\n",
    "| non-capture group | `(?:`ABC`)`                  |\n",
    "\n",
    "For other things like atomic groups, branch resets, or subroutine definitions, see a regex reference manual or webpage! :)"
   ]
  },
  {
   "cell_type": "markdown",
   "id": "bc204cd7",
   "metadata": {
    "slideshow": {
     "slide_type": "subslide"
    }
   },
   "source": [
    "**Lookaround**\n",
    "\n",
    "sometimes you want to make sure stuff does or does not \"exist\", but don't _need_ that stuff, itself. \n",
    "\n",
    "| meaning             | syntax       |\n",
    "|---------------------|--------------|\n",
    "| positive lookahead  | `(?=`ABC`)`  |\n",
    "| negative lookahead  | `(?!`ABC`)`  |\n",
    "| positive lookbehind | `(?<=`ABC`)` |\n",
    "| negative lookbehind | `(?<!`ABC`)` |\n",
    "| discard until       | `\\K`         |\n",
    "\n",
    "E.g. `(?=New )York` will return the match `York`, but only when it sees `New ` in front of it. \n",
    "\n",
    "Be careful, not all languages' regex implementations support all of these!"
   ]
  },
  {
   "cell_type": "markdown",
   "id": "1adde873",
   "metadata": {
    "slideshow": {
     "slide_type": "subslide"
    }
   },
   "source": [
    "**Quantifiers & Alternation**\n",
    "\n",
    "How much of something? Also, boolean operations (kinda...)\n",
    "\n",
    "| meaning            | syntax                        |\n",
    "|--------------------|-------------------------------|\n",
    "| one-or-more (plus) | ABC`+`                        |\n",
    "| Any amount (star)  | ABC`*`                        |\n",
    "| quantifier         | `{`n`}` or `{`start`,`stop`}` |\n",
    "| 0 or 1 (optional)  | `?`                           |\n",
    "| make lazy          | quantifier+`?` (e.g. `+?`)    |\n",
    "| alternation (OR)   | `\\|`                          |\n",
    "\n",
    "These are _incredibly_ useful, since you can build sophisticated patterns using smaller, specific building blocks: \n",
    "\n",
    "> Entity Legos!"
   ]
  },
  {
   "cell_type": "markdown",
   "id": "a1e81165",
   "metadata": {
    "slideshow": {
     "slide_type": "subslide"
    }
   },
   "source": [
    "**Flags**\n",
    "\n",
    "Configuration for the regex parser. \n",
    "\n",
    "| meaning       | syntax |\n",
    "|---------------|--------|\n",
    "| ignore case   | `i`    |\n",
    "| global search | `g`    |\n",
    "| multiline     | `m`    |\n",
    "| dotall        | `s`    |\n",
    "| no literal ws | `x`    |\n",
    "| ungreedy      | `U`    |\n",
    "\n",
    "Use depends on implementation: \n",
    "- after the pattern (e.g. in vim): `/pattern/gms`\n",
    "- as an Enum kwarg (in Python): `re.S`, `re.M`, etc."
   ]
  },
  {
   "cell_type": "markdown",
   "id": "5b9134a9",
   "metadata": {
    "slideshow": {
     "slide_type": "subslide"
    }
   },
   "source": [
    "**References** \n",
    "\n",
    "- Need Practice? [Rgex Golf](https://alf.nu/RegexGolf) is pretty fun!\n",
    "    - get the matches, ignore the false matches\n",
    "    - as _few_ characters in the pattern as possible\n",
    "    \n",
    "- Need help? [regexr.com](https://regexr.com)\n",
    "    - Docstrings and examples for all you just saw\n",
    "    - add unit tests (like \"golf\" to pass/fail)\n",
    "    - get auto explanations for _why_ something matches"
   ]
  },
  {
   "cell_type": "markdown",
   "id": "752b307e",
   "metadata": {
    "slideshow": {
     "slide_type": "subslide"
    }
   },
   "source": [
    "**Discussion**: \n",
    "    \n",
    "What is this for?\n",
    "\n",
    "```([ab]*)c\\1```"
   ]
  },
  {
   "cell_type": "code",
   "execution_count": 1,
   "id": "46f7c898",
   "metadata": {
    "hide_input": false,
    "slideshow": {
     "slide_type": "fragment"
    }
   },
   "outputs": [
    {
     "data": {
      "text/plain": [
       "<re.Match object; span=(0, 7), match='aabcaab'>"
      ]
     },
     "execution_count": 1,
     "metadata": {},
     "output_type": "execute_result"
    }
   ],
   "source": [
    "# Try below: \n",
    "import re\n",
    "patt = re.compile(r'([ab]*)c\\1')\n",
    "patt.match('aabcaab')"
   ]
  },
  {
   "cell_type": "code",
   "execution_count": 2,
   "id": "adb799e0",
   "metadata": {
    "slideshow": {
     "slide_type": "fragment"
    }
   },
   "outputs": [],
   "source": [
    "patt.match('aabcbaa')"
   ]
  },
  {
   "cell_type": "code",
   "execution_count": 3,
   "id": "01503682",
   "metadata": {
    "slideshow": {
     "slide_type": "fragment"
    }
   },
   "outputs": [
    {
     "data": {
      "text/plain": [
       "['aab', 'b']"
      ]
     },
     "execution_count": 3,
     "metadata": {},
     "output_type": "execute_result"
    }
   ],
   "source": [
    "patt.findall('aabcaab aabcbaa')"
   ]
  },
  {
   "cell_type": "markdown",
   "id": "d31e51c9",
   "metadata": {
    "slideshow": {
     "slide_type": "subslide"
    }
   },
   "source": [
    "### A (pedantic note)\n",
    "\n",
    "That example isn't actually \"regular\", in a computer-science sense. \n",
    "It isn't even \"context-free\". \n",
    "\n",
    "**regular expression** comes from Chomsky's Hierarchy, in that it defines a _regular language_ (the strictest subset, below _context-free_). \n",
    "A regular language is equivalent to a language that can be recognized by a finite automoton. \n",
    "\n",
    "What we just witnessed (exact-string memory of a group instance) was _not_ context-free, or regular. \n",
    "\n",
    "> modern RegEx implementations are majorly \"souped-up\" with convenience features!"
   ]
  },
  {
   "cell_type": "markdown",
   "id": "c5df831f",
   "metadata": {
    "slideshow": {
     "slide_type": "slide"
    }
   },
   "source": [
    "## Take a Break (Exercises)\n",
    "\n",
    "- Write an expression to match markdown sections, to return `(hashes, header, content)` pairs. \n",
    "  > _tip: use \"multiline\"`re.M` and \"dotall\" `re.S` flags_\n",
    "\n",
    "- Write expressions to match _Wordle_ words, given feedback\n",
    "  > _tip: how can we make boolean \"AND\" in regex?_"
   ]
  },
  {
   "cell_type": "code",
   "execution_count": 4,
   "id": "de3b8dcf",
   "metadata": {
    "hide_input": true,
    "slideshow": {
     "slide_type": "skip"
    }
   },
   "outputs": [],
   "source": [
    "patt = re.compile(\n",
    "    \"(^#+)\"  # the header hashes\n",
    "    \"\\s([\\w -:]*)\"  # the title\n",
    "    \"\\s+(.*?)\"  # the body content\n",
    "    \"(?=^#|\\Z)\", # do not include the next section header!\n",
    "    flags=re.S | re.M\n",
    ")"
   ]
  },
  {
   "cell_type": "code",
   "execution_count": 5,
   "id": "e30536a7",
   "metadata": {
    "slideshow": {
     "slide_type": "subslide"
    }
   },
   "outputs": [
    {
     "data": {
      "text/html": [
       "<div>\n",
       "<style scoped>\n",
       "    .dataframe tbody tr th:only-of-type {\n",
       "        vertical-align: middle;\n",
       "    }\n",
       "\n",
       "    .dataframe tbody tr th {\n",
       "        vertical-align: top;\n",
       "    }\n",
       "\n",
       "    .dataframe thead th {\n",
       "        text-align: right;\n",
       "    }\n",
       "</style>\n",
       "<table border=\"1\" class=\"dataframe\">\n",
       "  <thead>\n",
       "    <tr style=\"text-align: right;\">\n",
       "      <th></th>\n",
       "      <th>level</th>\n",
       "      <th>title</th>\n",
       "      <th>content</th>\n",
       "    </tr>\n",
       "  </thead>\n",
       "  <tbody>\n",
       "    <tr>\n",
       "      <th>0</th>\n",
       "      <td>#</td>\n",
       "      <td>This is a Markdown Title</td>\n",
       "      <td>this is _italicized content_.\\n\\n</td>\n",
       "    </tr>\n",
       "    <tr>\n",
       "      <th>1</th>\n",
       "      <td>##</td>\n",
       "      <td>This is a Level 2 Subtitle</td>\n",
       "      <td>What more is there to say?\\n</td>\n",
       "    </tr>\n",
       "  </tbody>\n",
       "</table>\n",
       "</div>"
      ],
      "text/plain": [
       "  level                       title                            content\n",
       "0     #    This is a Markdown Title  this is _italicized content_.\\n\\n\n",
       "1    ##  This is a Level 2 Subtitle       What more is there to say?\\n"
      ]
     },
     "execution_count": 5,
     "metadata": {},
     "output_type": "execute_result"
    }
   ],
   "source": [
    "# FIND `patt` SUCH THAT: \n",
    "matches = patt.findall(\n",
    "    \"\"\"\n",
    "# This is a Markdown Title\n",
    "this is _italicized content_.\n",
    "\n",
    "## This is a Level 2 Subtitle\n",
    "What more is there to say?\n",
    "\"\"\"\n",
    ")\n",
    "import pandas as pd\n",
    "pd.DataFrame.from_records(matches, columns=['level', 'title', 'content'])\n",
    "# for match in matches: \n",
    "#     print('heading lvl:',match[0])\n",
    "#     print('title: ',  match[1])\n",
    "#     print('content: ',match[2])"
   ]
  },
  {
   "cell_type": "markdown",
   "id": "59c6493b",
   "metadata": {
    "slideshow": {
     "slide_type": "slide"
    }
   },
   "source": [
    "## Relational Pedantry: Ontology"
   ]
  },
  {
   "cell_type": "code",
   "execution_count": null,
   "id": "d847434d",
   "metadata": {
    "slideshow": {
     "slide_type": "subslide"
    }
   },
   "outputs": [],
   "source": []
  },
  {
   "cell_type": "markdown",
   "id": "9ac598c8",
   "metadata": {
    "slideshow": {
     "slide_type": "subslide"
    }
   },
   "source": [
    "### WordNet"
   ]
  },
  {
   "cell_type": "markdown",
   "id": "b7577dc2",
   "metadata": {
    "slideshow": {
     "slide_type": "subslide"
    }
   },
   "source": [
    "### ConceptNet"
   ]
  },
  {
   "cell_type": "markdown",
   "id": "e8490884",
   "metadata": {
    "slideshow": {
     "slide_type": "subslide"
    }
   },
   "source": [
    "### Implementation Details\n",
    "- skos and owl\n",
    "- jsonschema and jsonld\n",
    "- struggles and future: linkml(?)"
   ]
  }
 ],
 "metadata": {
  "jupytext": {
   "formats": "ipynb,md:myst",
   "text_representation": {
    "extension": ".md",
    "format_name": "myst",
    "format_version": 0.13,
    "jupytext_version": "1.11.5"
   }
  },
  "kernelspec": {
   "display_name": "Python 3 (ipykernel)",
   "language": "python",
   "name": "python3"
  },
  "language_info": {
   "codemirror_mode": {
    "name": "ipython",
    "version": 3
   },
   "file_extension": ".py",
   "mimetype": "text/x-python",
   "name": "python",
   "nbconvert_exporter": "python",
   "pygments_lexer": "ipython3",
   "version": "3.9.10"
  },
  "source_map": [
   15,
   19,
   29,
   40,
   44,
   48,
   52,
   63,
   76,
   87,
   106,
   122,
   137,
   153,
   171,
   190,
   209,
   222,
   230,
   242,
   250,
   258,
   272,
   282,
   297,
   320,
   324,
   332,
   336,
   340
  ]
 },
 "nbformat": 4,
 "nbformat_minor": 5
}