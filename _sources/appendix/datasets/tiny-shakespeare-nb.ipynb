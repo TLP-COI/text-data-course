{
 "cells": [
  {
   "cell_type": "markdown",
   "id": "5a879f19",
   "metadata": {},
   "source": [
    "# \"Tiny\" Shakespeare\n",
    "\n",
    "As made popular by Andrej Karpathy in his [blog post *The Unreasonable Effectiveness of RNN's*](https://karpathy.github.io/2015/05/21/rnn-effectiveness/), this selection from several of Shakespeare's works has seen re-use in various tutorials, librarys, demos, including Tensorflow and HuggingFace, themselves."
   ]
  },
  {
   "cell_type": "code",
   "execution_count": 1,
   "id": "bb583848",
   "metadata": {},
   "outputs": [],
   "source": [
    "from pathlib import Path\n",
    "import dvc.api as dvc\n",
    "\n",
    "data_dir = Path(dvc.Repo().find_root())/'resources'/'data'/'shakespeare'/'shakespeare.txt'"
   ]
  },
  {
   "cell_type": "code",
   "execution_count": 2,
   "id": "3913508e",
   "metadata": {},
   "outputs": [
    {
     "name": "stdout",
     "output_type": "stream",
     "text": [
      "Second Citizen:\n",
      "Would you proceed especially against Caius Marcius?\n",
      "\n",
      "All:\n",
      "Against him first: he's a very dog to the commonalty.\n",
      "\n",
      "Second Citizen:\n",
      "Consider you what services he has done for his country?\n",
      "\n",
      "First Citizen:\n",
      "Very well; and could be content to give him good\n",
      "report fort, but that he pays himself with being proud.\n",
      "\n",
      "Second Citizen:\n",
      "Nay, but speak not maliciously.\n",
      "\n",
      "First Citizen:\n",
      "I say unto you, what he hath done famously, he did\n",
      "it to that end: though soft-conscienced men can be\n",
      "content to "
     ]
    },
    {
     "name": "stdout",
     "output_type": "stream",
     "text": [
      "\n"
     ]
    }
   ],
   "source": [
    "# Get raw text as string.\n",
    "text = data_dir.read_text()\n",
    "\n",
    "print(text[1000:1500])"
   ]
  },
  {
   "cell_type": "markdown",
   "id": "6fda3972",
   "metadata": {},
   "source": [
    "## Markov Language Model"
   ]
  },
  {
   "cell_type": "code",
   "execution_count": 3,
   "id": "215116d8",
   "metadata": {},
   "outputs": [
    {
     "data": {
      "text/plain": [
       "\"Turn thee, Benvolio, look upon his honour; 'tis for my life, and holds you dear As Anna to the hearing of her To some remote and desert place quite out Of our proceedings here: on the hungry edge of traitors, gracious Lord, That would reduce these bloody marks; And no way from hence his body; And mourn you for his sake; and thereby hangs a tale.\""
      ]
     },
     "execution_count": 3,
     "metadata": {},
     "output_type": "execute_result"
    }
   ],
   "source": [
    "import markovify\n",
    "model = markovify.Text(text, state_size=2, well_formed=False)\n",
    "model.make_sentence(tries=500)"
   ]
  },
  {
   "cell_type": "code",
   "execution_count": 4,
   "id": "9c576659",
   "metadata": {},
   "outputs": [
    {
     "name": "stdout",
     "output_type": "stream",
     "text": [
      "Therefore, we banish you our voices heartily."
     ]
    },
    {
     "name": "stdout",
     "output_type": "stream",
     "text": [
      "\n"
     ]
    },
    {
     "name": "stdout",
     "output_type": "stream",
     "text": [
      "Therefore, we banish him, I charge you, in God's name, lead; your king's name twenty thousand deaths, In thy best friends did know How he hath won."
     ]
    },
    {
     "name": "stdout",
     "output_type": "stream",
     "text": [
      "\n"
     ]
    },
    {
     "name": "stdout",
     "output_type": "stream",
     "text": [
      "Therefore, we banish him, and reconciled king, my flatterers Were then but speechless death, Which robs my tongue blister And never will be mild and gentle in his lineaments, Being nothing like the sun, did make thee curse the deed."
     ]
    },
    {
     "name": "stdout",
     "output_type": "stream",
     "text": [
      "\n"
     ]
    },
    {
     "name": "stdout",
     "output_type": "stream",
     "text": [
      "Therefore, we banish him, and we'll no further."
     ]
    },
    {
     "name": "stdout",
     "output_type": "stream",
     "text": [
      "\n"
     ]
    },
    {
     "name": "stdout",
     "output_type": "stream",
     "text": [
      "Therefore, we banish with yourselves-- To keep your duties, As I intend to hunt again."
     ]
    },
    {
     "name": "stdout",
     "output_type": "stream",
     "text": [
      "\n"
     ]
    }
   ],
   "source": [
    "for i in range(5):\n",
    "    print(model.make_sentence_with_start('Therefore, we', strict=False, tries=500))"
   ]
  },
  {
   "cell_type": "code",
   "execution_count": null,
   "id": "b674347d",
   "metadata": {},
   "outputs": [],
   "source": []
  },
  {
   "cell_type": "code",
   "execution_count": null,
   "id": "1819cde6",
   "metadata": {},
   "outputs": [],
   "source": []
  }
 ],
 "metadata": {
  "jupytext": {
   "text_representation": {
    "extension": ".md",
    "format_name": "myst",
    "format_version": 0.13,
    "jupytext_version": "1.11.5"
   }
  },
  "kernelspec": {
   "display_name": "Python 3 (ipykernel)",
   "language": "python",
   "name": "python3"
  },
  "language_info": {
   "codemirror_mode": {
    "name": "ipython",
    "version": 3
   },
   "file_extension": ".py",
   "mimetype": "text/x-python",
   "name": "python",
   "nbconvert_exporter": "python",
   "pygments_lexer": "ipython3",
   "version": "3.9.9"
  },
  "source_map": [
   12,
   18,
   25,
   30,
   34,
   40,
   45,
   49
  ]
 },
 "nbformat": 4,
 "nbformat_minor": 5
}