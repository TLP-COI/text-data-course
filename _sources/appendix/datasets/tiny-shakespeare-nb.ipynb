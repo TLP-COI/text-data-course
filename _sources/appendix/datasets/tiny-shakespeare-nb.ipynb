{
 "cells": [
  {
   "cell_type": "markdown",
   "id": "e528c9d8",
   "metadata": {},
   "source": [
    "# \"Tiny\" Shakespeare\n",
    "\n",
    "As made popular by Andrej Karpathy in his [blog post *The Unreasonable Effectiveness of RNN's*](https://karpathy.github.io/2015/05/21/rnn-effectiveness/), this selection from several of Shakespeare's works has seen re-use in various tutorials, librarys, demos, including Tensorflow and HuggingFace, themselves."
   ]
  },
  {
   "cell_type": "code",
   "execution_count": 1,
   "id": "b9dfe243",
   "metadata": {},
   "outputs": [],
   "source": [
    "from pathlib import Path\n",
    "import dvc.api as dvc\n",
    "\n",
    "data_dir = Path(dvc.Repo().find_root())/'resources'/'data'/'shakespeare'/'shakespeare.txt'"
   ]
  },
  {
   "cell_type": "code",
   "execution_count": 2,
   "id": "48b52e3b",
   "metadata": {},
   "outputs": [
    {
     "name": "stdout",
     "output_type": "stream",
     "text": [
      "Second Citizen:\n",
      "Would you proceed especially against Caius Marcius?\n",
      "\n",
      "All:\n",
      "Against him first: he's a very dog to the commonalty.\n",
      "\n",
      "Second Citizen:\n",
      "Consider you what services he has done for his country?\n",
      "\n",
      "First Citizen:\n",
      "Very well; and could be content to give him good\n",
      "report fort, but that he pays himself with being proud.\n",
      "\n",
      "Second Citizen:\n",
      "Nay, but speak not maliciously.\n",
      "\n",
      "First Citizen:\n",
      "I say unto you, what he hath done famously, he did\n",
      "it to that end: though soft-conscienced men can be\n",
      "content to "
     ]
    },
    {
     "name": "stdout",
     "output_type": "stream",
     "text": [
      "\n"
     ]
    }
   ],
   "source": [
    "# Get raw text as string.\n",
    "text = data_dir.read_text()\n",
    "\n",
    "print(text[1000:1500])"
   ]
  },
  {
   "cell_type": "markdown",
   "id": "416bcdea",
   "metadata": {},
   "source": [
    "## Markov Language Model"
   ]
  },
  {
   "cell_type": "code",
   "execution_count": 3,
   "id": "1a9c530b",
   "metadata": {},
   "outputs": [
    {
     "data": {
      "text/plain": [
       "\"KING RICHARD III: Your reasons are too senseless--obstinate, my lord, bethink you; I'll not be obedient.\""
      ]
     },
     "execution_count": 3,
     "metadata": {},
     "output_type": "execute_result"
    }
   ],
   "source": [
    "import markovify\n",
    "model = markovify.Text(text, state_size=2, well_formed=False)\n",
    "model.make_sentence(tries=500)"
   ]
  },
  {
   "cell_type": "code",
   "execution_count": 4,
   "id": "f7f29496",
   "metadata": {},
   "outputs": [
    {
     "name": "stdout",
     "output_type": "stream",
     "text": [
      "Therefore, we banish him, I said so."
     ]
    },
    {
     "name": "stdout",
     "output_type": "stream",
     "text": [
      "\n"
     ]
    },
    {
     "name": "stdout",
     "output_type": "stream",
     "text": [
      "Therefore, we banish him, I will make the best of it."
     ]
    },
    {
     "name": "stdout",
     "output_type": "stream",
     "text": [
      "\n"
     ]
    },
    {
     "name": "stdout",
     "output_type": "stream",
     "text": [
      "Therefore, we banish you our choice, That you may easily heal: and the duke, thus hath the prettiest babe that e'er I heard you say that she shall be thought we held him carelessly, Being our kinsman, if we do minister To them accordingly."
     ]
    },
    {
     "name": "stdout",
     "output_type": "stream",
     "text": [
      "\n"
     ]
    },
    {
     "name": "stdout",
     "output_type": "stream",
     "text": [
      "Therefore, we banish with yourselves-- To keep him company: Either thou, or what news From France?"
     ]
    },
    {
     "name": "stdout",
     "output_type": "stream",
     "text": [
      "\n"
     ]
    },
    {
     "name": "stdout",
     "output_type": "stream",
     "text": [
      "Therefore, we banish you our voices heartily."
     ]
    },
    {
     "name": "stdout",
     "output_type": "stream",
     "text": [
      "\n"
     ]
    }
   ],
   "source": [
    "for i in range(5):\n",
    "    print(model.make_sentence_with_start('Therefore, we', strict=False, tries=500))"
   ]
  },
  {
   "cell_type": "code",
   "execution_count": null,
   "id": "1e90aa7b",
   "metadata": {},
   "outputs": [],
   "source": []
  },
  {
   "cell_type": "code",
   "execution_count": null,
   "id": "19f4eea2",
   "metadata": {},
   "outputs": [],
   "source": []
  }
 ],
 "metadata": {
  "jupytext": {
   "text_representation": {
    "extension": ".md",
    "format_name": "myst",
    "format_version": 0.13,
    "jupytext_version": "1.11.5"
   }
  },
  "kernelspec": {
   "display_name": "Python 3 (ipykernel)",
   "language": "python",
   "name": "python3"
  },
  "language_info": {
   "codemirror_mode": {
    "name": "ipython",
    "version": 3
   },
   "file_extension": ".py",
   "mimetype": "text/x-python",
   "name": "python",
   "nbconvert_exporter": "python",
   "pygments_lexer": "ipython3",
   "version": "3.9.9"
  },
  "source_map": [
   12,
   18,
   25,
   30,
   34,
   40,
   45,
   49
  ]
 },
 "nbformat": 4,
 "nbformat_minor": 5
}