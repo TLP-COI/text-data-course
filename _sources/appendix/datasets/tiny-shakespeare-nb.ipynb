{
 "cells": [
  {
   "cell_type": "markdown",
   "id": "377c2780",
   "metadata": {},
   "source": [
    "# \"Tiny\" Shakespeare\n",
    "\n",
    "As made popular by Andrej Karpathy in his [blog post *The Unreasonable Effectiveness of RNN's*](https://karpathy.github.io/2015/05/21/rnn-effectiveness/), this selection from several of Shakespeare's works has seen re-use in various tutorials, librarys, demos, including Tensorflow and HuggingFace, themselves."
   ]
  },
  {
   "cell_type": "code",
   "execution_count": 1,
   "id": "5258f393",
   "metadata": {},
   "outputs": [],
   "source": [
    "from pathlib import Path\n",
    "import dvc.api as dvc\n",
    "\n",
    "data_dir = Path(dvc.Repo().find_root())/'resources'/'data'/'shakespeare'/'shakespeare.txt'"
   ]
  },
  {
   "cell_type": "code",
   "execution_count": 2,
   "id": "20f6999a",
   "metadata": {},
   "outputs": [
    {
     "name": "stdout",
     "output_type": "stream",
     "text": [
      "Second Citizen:\n",
      "Would you proceed especially against Caius Marcius?\n",
      "\n",
      "All:\n",
      "Against him first: he's a very dog to the commonalty.\n",
      "\n",
      "Second Citizen:\n",
      "Consider you what services he has done for his country?\n",
      "\n",
      "First Citizen:\n",
      "Very well; and could be content to give him good\n",
      "report fort, but that he pays himself with being proud.\n",
      "\n",
      "Second Citizen:\n",
      "Nay, but speak not maliciously.\n",
      "\n",
      "First Citizen:\n",
      "I say unto you, what he hath done famously, he did\n",
      "it to that end: though soft-conscienced men can be\n",
      "content to "
     ]
    },
    {
     "name": "stdout",
     "output_type": "stream",
     "text": [
      "\n"
     ]
    }
   ],
   "source": [
    "# Get raw text as string.\n",
    "text = data_dir.read_text()\n",
    "\n",
    "print(text[1000:1500])"
   ]
  },
  {
   "cell_type": "markdown",
   "id": "b6217cc4",
   "metadata": {},
   "source": [
    "## Markov Language Model"
   ]
  },
  {
   "cell_type": "code",
   "execution_count": 3,
   "id": "2304c6ce",
   "metadata": {},
   "outputs": [
    {
     "data": {
      "text/plain": [
       "'The wills above be done! but I will add right worthy gains.'"
      ]
     },
     "execution_count": 3,
     "metadata": {},
     "output_type": "execute_result"
    }
   ],
   "source": [
    "import markovify\n",
    "model = markovify.Text(text, state_size=2, well_formed=False)\n",
    "model.make_sentence(tries=500)"
   ]
  },
  {
   "cell_type": "code",
   "execution_count": 4,
   "id": "06742bdc",
   "metadata": {},
   "outputs": [
    {
     "name": "stdout",
     "output_type": "stream",
     "text": [
      "Therefore, we banish you our friend; and therefore fire: do thy duty, and as soon As draw his sword; yet he was wont to come have ta'en note of us: that we may yet again have access to thee."
     ]
    },
    {
     "name": "stdout",
     "output_type": "stream",
     "text": [
      "\n"
     ]
    },
    {
     "name": "stdout",
     "output_type": "stream",
     "text": [
      "Therefore, we banish with yourselves-- To keep the body of a better hour, Let what is mine own: She is something stale and hoar ere it be too big for your pains, Of capital treason we arrest you here."
     ]
    },
    {
     "name": "stdout",
     "output_type": "stream",
     "text": [
      "\n"
     ]
    },
    {
     "name": "stdout",
     "output_type": "stream",
     "text": [
      "Therefore, we banish him, I here protest, Upon my life, I charge thee That thou no wife; I'll go see your grace: humbly on my wrongs with an 'Alas,' I would crave a word with one that indeed physics the subject, makes old hearts fresh: they that complain unto the king, and who perform'd The bloody office of a lute."
     ]
    },
    {
     "name": "stdout",
     "output_type": "stream",
     "text": [
      "\n"
     ]
    },
    {
     "name": "stdout",
     "output_type": "stream",
     "text": [
      "Therefore, we banish you our choice, That you might have made thy spring, And that the unjust man doth thrive."
     ]
    },
    {
     "name": "stdout",
     "output_type": "stream",
     "text": [
      "\n"
     ]
    },
    {
     "name": "stdout",
     "output_type": "stream",
     "text": [
      "Therefore, we banish him, I charge you, as we watch these kites That bate and beat and will perform."
     ]
    },
    {
     "name": "stdout",
     "output_type": "stream",
     "text": [
      "\n"
     ]
    }
   ],
   "source": [
    "for i in range(5):\n",
    "    print(model.make_sentence_with_start('Therefore, we', strict=False, tries=500))"
   ]
  },
  {
   "cell_type": "code",
   "execution_count": null,
   "id": "51f5e101",
   "metadata": {},
   "outputs": [],
   "source": []
  },
  {
   "cell_type": "code",
   "execution_count": null,
   "id": "1b29b8c7",
   "metadata": {},
   "outputs": [],
   "source": []
  }
 ],
 "metadata": {
  "jupytext": {
   "text_representation": {
    "extension": ".md",
    "format_name": "myst",
    "format_version": 0.13,
    "jupytext_version": "1.11.5"
   }
  },
  "kernelspec": {
   "display_name": "Python 3 (ipykernel)",
   "language": "python",
   "name": "python3"
  },
  "language_info": {
   "codemirror_mode": {
    "name": "ipython",
    "version": 3
   },
   "file_extension": ".py",
   "mimetype": "text/x-python",
   "name": "python",
   "nbconvert_exporter": "python",
   "pygments_lexer": "ipython3",
   "version": "3.9.9"
  },
  "source_map": [
   12,
   18,
   25,
   30,
   34,
   40,
   45,
   49
  ]
 },
 "nbformat": 4,
 "nbformat_minor": 5
}