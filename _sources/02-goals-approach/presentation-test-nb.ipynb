{
 "cells": [
  {
   "cell_type": "markdown",
   "id": "8f1d0b48",
   "metadata": {
    "slideshow": {
     "slide_type": "slide"
    }
   },
   "source": [
    "# Testing Presentations\n",
    "\n",
    "For good and profit"
   ]
  },
  {
   "cell_type": "markdown",
   "id": "172a6010",
   "metadata": {
    "slideshow": {
     "slide_type": "subslide"
    }
   },
   "source": [
    "## Does this work?\n",
    "At all?"
   ]
  },
  {
   "cell_type": "code",
   "execution_count": 1,
   "id": "0e7b09ea",
   "metadata": {
    "slideshow": {
     "slide_type": "fragment"
    }
   },
   "outputs": [
    {
     "name": "stdout",
     "output_type": "stream",
     "text": [
      "hello, I think.\n",
      "0.6019912209119016\n"
     ]
    }
   ],
   "source": [
    "print('hello, I think.')\n",
    "import random\n",
    "print(random.uniform(0,1))"
   ]
  },
  {
   "cell_type": "markdown",
   "id": "1b03c676",
   "metadata": {
    "slideshow": {
     "slide_type": "skip"
    }
   },
   "source": [
    "this is a long section of prose. \n",
    "\n",
    "---\n",
    "\n",
    "even more prose"
   ]
  },
  {
   "cell_type": "code",
   "execution_count": null,
   "id": "60157e23",
   "metadata": {},
   "outputs": [],
   "source": []
  }
 ],
 "metadata": {
  "jupytext": {
   "text_representation": {
    "extension": ".md",
    "format_name": "myst",
    "format_version": 0.13,
    "jupytext_version": "1.11.5"
   }
  },
  "kernelspec": {
   "display_name": "Python 3 (ipykernel)",
   "language": "python",
   "name": "python3"
  },
  "language_info": {
   "codemirror_mode": {
    "name": "ipython",
    "version": 3
   },
   "file_extension": ".py",
   "mimetype": "text/x-python",
   "name": "python",
   "nbconvert_exporter": "python",
   "pygments_lexer": "ipython3",
   "version": "3.10.0"
  },
  "source_map": [
   14,
   20,
   25,
   35,
   43
  ]
 },
 "nbformat": 4,
 "nbformat_minor": 5
}